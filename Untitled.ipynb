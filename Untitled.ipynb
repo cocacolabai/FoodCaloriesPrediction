{
 "cells": [
  {
   "cell_type": "code",
   "execution_count": 1,
   "metadata": {
    "collapsed": true
   },
   "outputs": [],
   "source": [
    "with open('./calories.txt') as f:\n",
    "    content = list(f.readlines())"
   ]
  },
  {
   "cell_type": "code",
   "execution_count": 2,
   "metadata": {
    "collapsed": true
   },
   "outputs": [],
   "source": [
    "import scipy.misc\n",
    "import os\n",
    "\n",
    "target_dir = 'pfid'\n",
    "result = {}\n",
    "count = 0 \n",
    "for i, c in enumerate(content):\n",
    "    x = (c.strip().split(\"'\"))\n",
    "    fname = x[1]\n",
    "    try:\n",
    "        calorie = int(x[2].strip())\n",
    "    except:\n",
    "        calorie = -1\n",
    "    # print(fname, calorie)\n",
    "    if (os.path.splitext(fname)[1]) == '.jpg':\n",
    "        current = scipy.misc.imread(fname)\n",
    "        x, y, _ = current.shape\n",
    "        if x > 1000:\n",
    "            x_start = int(x / 3)\n",
    "            x_end = int(x_start + (2 * x) / 3)\n",
    "            y_start = int(y / 6)\n",
    "            y_end = int(y_start + (2 * y) / 3)\n",
    "            foto = current[x_start:x_end, y_start:y_end, :]\n",
    "            new_file_name = os.path.join(target_dir, str(count) + '.jpg')\n",
    "            resized = scipy.misc.imresize(foto, (256, 256))\n",
    "            scipy.misc.imsave(new_file_name, resized)\n",
    "            result[new_file_name] = calorie\n",
    "            count += 1\n",
    "            \n",
    "        "
   ]
  },
  {
   "cell_type": "code",
   "execution_count": 5,
   "metadata": {
    "collapsed": true
   },
   "outputs": [],
   "source": [
    "with open('pfid/calories.txt', 'w') as f:\n",
    "    for i, j in result.items():\n",
    "        if os.path.exists(i):\n",
    "            print(i, j, file=f)"
   ]
  },
  {
   "cell_type": "code",
   "execution_count": 1,
   "metadata": {
    "collapsed": true
   },
   "outputs": [],
   "source": [
    "import scipy.io\n",
    "x = scipy.io.loadmat('./food101features/resnet_food101_100.mat')"
   ]
  },
  {
   "cell_type": "code",
   "execution_count": 2,
   "metadata": {
    "collapsed": true
   },
   "outputs": [],
   "source": [
    "import os\n",
    "features = []\n",
    "for name in os.listdir('./food101features/'):\n",
    "    features.append(scipy.io.loadmat(os.path.join('./food101features/', name))['x'])"
   ]
  },
  {
   "cell_type": "code",
   "execution_count": 4,
   "metadata": {},
   "outputs": [],
   "source": [
    "import numpy as np\n",
    "allx = np.vstack(features)"
   ]
  },
  {
   "cell_type": "code",
   "execution_count": 15,
   "metadata": {},
   "outputs": [
    {
     "data": {
      "text/plain": [
       "(100602, 2048)"
      ]
     },
     "execution_count": 15,
     "metadata": {},
     "output_type": "execute_result"
    }
   ],
   "source": [
    "allx.shape"
   ]
  },
  {
   "cell_type": "code",
   "execution_count": 11,
   "metadata": {
    "collapsed": true
   },
   "outputs": [],
   "source": [
    "import scipy.misc as sm\n",
    "def make_y(content):\n",
    "    \n",
    "    result = []\n",
    "    i = 1\n",
    "    for a, y in content:\n",
    "        path = a\n",
    "        if os.path.splitext(a)[1] != '.jpg':\n",
    "            print(a)\n",
    "            continue\n",
    "        imgcontent = sm.imread(path).astype(np.float32)\n",
    "        if imgcontent.shape != (256, 256, 3):\n",
    "            print(imgcontent.shape)\n",
    "            continue\n",
    "        yield y\n"
   ]
  },
  {
   "cell_type": "code",
   "execution_count": 24,
   "metadata": {},
   "outputs": [
    {
     "name": "stdout",
     "output_type": "stream",
     "text": [
      "(256, 256)\n",
      "(256, 256)\n",
      "(256, 256)\n"
     ]
    }
   ],
   "source": [
    "with open('./food101/calories.txt') as f:\n",
    "    all_y = list(map(str.split, f.readlines()))\n",
    "y = list(make_y(all_y))"
   ]
  },
  {
   "cell_type": "code",
   "execution_count": 25,
   "metadata": {},
   "outputs": [],
   "source": [
    "newy = y[:100602]\n",
    "\n",
    "newy = np.array(list(map(float, newy)))"
   ]
  },
  {
   "cell_type": "code",
   "execution_count": 26,
   "metadata": {},
   "outputs": [],
   "source": [
    "scipy.io.savemat('resnet_features', {'x': allx, 'y':newy})"
   ]
  },
  {
   "cell_type": "code",
   "execution_count": 22,
   "metadata": {},
   "outputs": [
    {
     "data": {
      "text/plain": [
       "()"
      ]
     },
     "execution_count": 22,
     "metadata": {},
     "output_type": "execute_result"
    }
   ],
   "source": [
    "y.shape"
   ]
  }
 ],
 "metadata": {
  "kernelspec": {
   "display_name": "Python 3",
   "language": "python",
   "name": "python3"
  },
  "language_info": {
   "codemirror_mode": {
    "name": "ipython",
    "version": 3
   },
   "file_extension": ".py",
   "mimetype": "text/x-python",
   "name": "python",
   "nbconvert_exporter": "python",
   "pygments_lexer": "ipython3",
   "version": "3.6.1"
  }
 },
 "nbformat": 4,
 "nbformat_minor": 2
}
