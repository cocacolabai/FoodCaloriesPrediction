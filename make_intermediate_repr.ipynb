{
 "cells": [
  {
   "cell_type": "code",
   "execution_count": 1,
   "metadata": {},
   "outputs": [
    {
     "name": "stderr",
     "output_type": "stream",
     "text": [
      "Using TensorFlow backend.\n"
     ]
    }
   ],
   "source": [
    "from keras.models import Sequential, load_model\n",
    "\n",
    "\n",
    "model = load_model('../Models/train_weights_some_.3dropout.h5')\n"
   ]
  },
  {
   "cell_type": "code",
   "execution_count": 2,
   "metadata": {},
   "outputs": [
    {
     "data": {
      "text/plain": [
       "[<keras.layers.convolutional.Conv2D at 0x7fd379c6d550>,\n",
       " <keras.layers.pooling.MaxPooling2D at 0x7fd379c6d9e8>,\n",
       " <keras.layers.convolutional.Conv2D at 0x7fd379c88240>,\n",
       " <keras.layers.pooling.MaxPooling2D at 0x7fd379c1f940>,\n",
       " <keras.layers.convolutional.Conv2D at 0x7fd379c35240>,\n",
       " <keras.layers.convolutional.Conv2D at 0x7fd379c478d0>,\n",
       " <keras.layers.convolutional.Conv2D at 0x7fd379bd7f98>,\n",
       " <keras.layers.pooling.MaxPooling2D at 0x7fd379c00f98>,\n",
       " <keras.layers.core.Flatten at 0x7fd379b92828>,\n",
       " <keras.layers.core.Dense at 0x7fd379b92198>,\n",
       " <keras.layers.core.Dropout at 0x7fd379bb5d68>,\n",
       " <keras.layers.core.Dense at 0x7fd379bb5898>,\n",
       " <keras.layers.core.Dropout at 0x7fd379b64668>,\n",
       " <keras.layers.core.Dense at 0x7fd379b64f60>]"
      ]
     },
     "execution_count": 2,
     "metadata": {},
     "output_type": "execute_result"
    }
   ],
   "source": [
    "model.layers"
   ]
  },
  {
   "cell_type": "code",
   "execution_count": 19,
   "metadata": {
    "collapsed": true
   },
   "outputs": [],
   "source": [
    "import scipy.misc as sm\n",
    "import os\n",
    "import numpy as np\n",
    "\n",
    "with open('food101/calories.txt') as f:\n",
    "    calories = {name: float(c) for name, c in map(str.split, f.readlines())}\n",
    "\n",
    "outdir = 'food101_2'\n",
    "def get_mini_batch(directory):\n",
    "    buf = []\n",
    "    y = []\n",
    "    count = 0\n",
    "    for i in sorted(os.listdir(directory)):\n",
    "        if os.path.splitext(i)[1] =='.jpg':\n",
    "            if int(os.path.splitext(i)[0]) % 2 == 0:\n",
    "                full = os.path.join(directory, i)\n",
    "                img = sm.imread(full)\n",
    "               # img = sm.imresize(img, (128, 128, 3), 'bilinear')\n",
    "\n",
    "                #newfile = os.path.join(outdir, i)\n",
    "                #sm.imsave(newfile, img)\n",
    "\n",
    "                if img.shape == (128, 128, 3):\n",
    "                # img -= np.mean(img, axis=0, keepdims=True) \n",
    "                   # buf.append(img.reshape((1, ) + img.shape))\n",
    "                    y.append(calories[full.replace('_2', '')])\n",
    "    return  np.array(y)\n",
    "\n"
   ]
  },
  {
   "cell_type": "code",
   "execution_count": 2,
   "metadata": {
    "collapsed": true
   },
   "outputs": [],
   "source": [
    "result = []\n",
    "for x, y in calories.items():\n",
    "    fname = int(os.path.splitext(os.path.split(x)[1])[0])\n",
    "    if fname % 2 == 0:\n",
    "        result.append(float(y))\n"
   ]
  },
  {
   "cell_type": "code",
   "execution_count": 3,
   "metadata": {
    "collapsed": true
   },
   "outputs": [],
   "source": [
    "result = np.array(result)"
   ]
  },
  {
   "cell_type": "code",
   "execution_count": 20,
   "metadata": {},
   "outputs": [],
   "source": [
    "y = get_mini_batch('food101_2')"
   ]
  },
  {
   "cell_type": "code",
   "execution_count": 21,
   "metadata": {},
   "outputs": [
    {
     "data": {
      "text/plain": [
       "(50498,)"
      ]
     },
     "execution_count": 21,
     "metadata": {},
     "output_type": "execute_result"
    }
   ],
   "source": [
    "y.shape"
   ]
  },
  {
   "cell_type": "code",
   "execution_count": 8,
   "metadata": {
    "collapsed": true
   },
   "outputs": [],
   "source": [
    "x = x.reshape(50498, 128 * 128 * 3)\n",
    "mean = np.mean(x, axis=0)"
   ]
  },
  {
   "cell_type": "code",
   "execution_count": 10,
   "metadata": {},
   "outputs": [],
   "source": [
    "x -= mean"
   ]
  },
  {
   "cell_type": "code",
   "execution_count": 11,
   "metadata": {
    "collapsed": true
   },
   "outputs": [],
   "source": [
    "x /= np.std(x, axis=0)"
   ]
  },
  {
   "cell_type": "code",
   "execution_count": 14,
   "metadata": {
    "collapsed": true
   },
   "outputs": [],
   "source": [
    "import scipy.io\n"
   ]
  },
  {
   "cell_type": "code",
   "execution_count": 12,
   "metadata": {
    "collapsed": true
   },
   "outputs": [],
   "source": [
    "import fbpca\n",
    "pca = fbpca.pca(x, 1000)"
   ]
  },
  {
   "cell_type": "code",
   "execution_count": 22,
   "metadata": {},
   "outputs": [],
   "source": [
    "scipy.io.savemat('/mnt/temp/usv', { 'u': pca[0], 's': pca[1], 'v':pca[2], 'y': y, 'mean': mean})"
   ]
  },
  {
   "cell_type": "code",
   "execution_count": 23,
   "metadata": {
    "collapsed": true
   },
   "outputs": [],
   "source": [
    "scipy.io.savemat('/mnt/temp/y', { 'y': y})"
   ]
  },
  {
   "cell_type": "code",
   "execution_count": 8,
   "metadata": {},
   "outputs": [
    {
     "name": "stderr",
     "output_type": "stream",
     "text": [
      "/home/han/bin/np-mode/lib/python3.6/site-packages/keras/backend/tensorflow_backend.py:2124: UserWarning: Expected no kwargs, you passed 1\n",
      "kwargs passed to function are ignored with Tensorflow backend\n",
      "  warnings.warn('\\n'.join(msg))\n"
     ]
    }
   ],
   "source": [
    "import keras.backend as K\n",
    "fc7 = K.function([model.layers[0].input], \n",
    "                                   [model.layers[10].output], \n",
    "                                   allow_input_downcast=True)\n",
    "fc6 = K.function([model.layers[0].input], \n",
    "                                   [model.layers[9].output], \n",
    "                                   allow_input_downcast=True)\n",
    "pool5 = K.function([model.layers[0].input], \n",
    "                   [model.layers[8].output], \n",
    "                   allow_input_downcast=True)\n",
    "\n",
    "batch, y = get_mini_batch('pfid/', 101000)\n",
    "def compute_features(data, func):\n",
    "    result = []\n",
    "    for i in range(0, len(data), 100):\n",
    "        start = i\n",
    "        end = i + 100\n",
    "        if end > len(data):\n",
    "            end = len(data)\n",
    "        result_fc7 = func([batch[start:end]])[0]\n",
    "        result.append(result_fc7)\n",
    "    return np.vstack(result)\n",
    "# result_fc6 = fc6([batch])\n",
    "# result_fc5 = pool5([batch])"
   ]
  },
  {
   "cell_type": "code",
   "execution_count": 9,
   "metadata": {
    "collapsed": true
   },
   "outputs": [],
   "source": [
    "p5weights = compute_features(batch, pool5)\n"
   ]
  },
  {
   "cell_type": "code",
   "execution_count": 7,
   "metadata": {},
   "outputs": [
    {
     "ename": "ValueError",
     "evalue": "all the input arrays must have same number of dimensions",
     "output_type": "error",
     "traceback": [
      "\u001b[0;31m---------------------------------------------------------------------------\u001b[0m",
      "\u001b[0;31mValueError\u001b[0m                                Traceback (most recent call last)",
      "\u001b[0;32m<ipython-input-7-2cbf933fb933>\u001b[0m in \u001b[0;36m<module>\u001b[0;34m()\u001b[0m\n\u001b[0;32m----> 1\u001b[0;31m \u001b[0mfeat\u001b[0m \u001b[0;34m=\u001b[0m \u001b[0mget_mini_batch\u001b[0m\u001b[0;34m(\u001b[0m\u001b[0;34m'./food101/'\u001b[0m\u001b[0;34m,\u001b[0m\u001b[0;36m1\u001b[0m\u001b[0;34m)\u001b[0m\u001b[0;34m\u001b[0m\u001b[0m\n\u001b[0m",
      "\u001b[0;32m<ipython-input-6-24822ab782fe>\u001b[0m in \u001b[0;36mget_mini_batch\u001b[0;34m(directory, size)\u001b[0m\n\u001b[1;32m     18\u001b[0m             \u001b[0mbuf\u001b[0m\u001b[0;34m.\u001b[0m\u001b[0mappend\u001b[0m\u001b[0;34m(\u001b[0m\u001b[0mimg\u001b[0m\u001b[0;34m.\u001b[0m\u001b[0mreshape\u001b[0m\u001b[0;34m(\u001b[0m\u001b[0;34m(\u001b[0m\u001b[0;36m1\u001b[0m\u001b[0;34m,\u001b[0m \u001b[0;34m)\u001b[0m \u001b[0;34m+\u001b[0m \u001b[0mimg\u001b[0m\u001b[0;34m.\u001b[0m\u001b[0mshape\u001b[0m\u001b[0;34m)\u001b[0m\u001b[0;34m)\u001b[0m\u001b[0;34m\u001b[0m\u001b[0m\n\u001b[1;32m     19\u001b[0m             \u001b[0;31m# y.append(calories[full])\u001b[0m\u001b[0;34m\u001b[0m\u001b[0;34m\u001b[0m\u001b[0m\n\u001b[0;32m---> 20\u001b[0;31m     \u001b[0;32mreturn\u001b[0m \u001b[0mnp\u001b[0m\u001b[0;34m.\u001b[0m\u001b[0mvstack\u001b[0m\u001b[0;34m(\u001b[0m\u001b[0mbuf\u001b[0m\u001b[0;34m)\u001b[0m\u001b[0;34m.\u001b[0m\u001b[0mastype\u001b[0m\u001b[0;34m(\u001b[0m\u001b[0mnp\u001b[0m\u001b[0;34m.\u001b[0m\u001b[0mfloat32\u001b[0m\u001b[0;34m)\u001b[0m\u001b[0;34m,\u001b[0m \u001b[0mnp\u001b[0m\u001b[0;34m.\u001b[0m\u001b[0marray\u001b[0m\u001b[0;34m(\u001b[0m\u001b[0my\u001b[0m\u001b[0;34m)\u001b[0m\u001b[0;34m\u001b[0m\u001b[0m\n\u001b[0m\u001b[1;32m     21\u001b[0m \u001b[0;34m\u001b[0m\u001b[0m\n",
      "\u001b[0;32m/home/han/bin/np-mode/lib/python3.6/site-packages/numpy/core/shape_base.py\u001b[0m in \u001b[0;36mvstack\u001b[0;34m(tup)\u001b[0m\n\u001b[1;32m    232\u001b[0m \u001b[0;34m\u001b[0m\u001b[0m\n\u001b[1;32m    233\u001b[0m     \"\"\"\n\u001b[0;32m--> 234\u001b[0;31m     \u001b[0;32mreturn\u001b[0m \u001b[0m_nx\u001b[0m\u001b[0;34m.\u001b[0m\u001b[0mconcatenate\u001b[0m\u001b[0;34m(\u001b[0m\u001b[0;34m[\u001b[0m\u001b[0matleast_2d\u001b[0m\u001b[0;34m(\u001b[0m\u001b[0m_m\u001b[0m\u001b[0;34m)\u001b[0m \u001b[0;32mfor\u001b[0m \u001b[0m_m\u001b[0m \u001b[0;32min\u001b[0m \u001b[0mtup\u001b[0m\u001b[0;34m]\u001b[0m\u001b[0;34m,\u001b[0m \u001b[0;36m0\u001b[0m\u001b[0;34m)\u001b[0m\u001b[0;34m\u001b[0m\u001b[0m\n\u001b[0m\u001b[1;32m    235\u001b[0m \u001b[0;34m\u001b[0m\u001b[0m\n\u001b[1;32m    236\u001b[0m \u001b[0;32mdef\u001b[0m \u001b[0mhstack\u001b[0m\u001b[0;34m(\u001b[0m\u001b[0mtup\u001b[0m\u001b[0;34m)\u001b[0m\u001b[0;34m:\u001b[0m\u001b[0;34m\u001b[0m\u001b[0m\n",
      "\u001b[0;31mValueError\u001b[0m: all the input arrays must have same number of dimensions"
     ]
    }
   ],
   "source": [
    "feat = get_mini_batch('./food101/',1)"
   ]
  },
  {
   "cell_type": "code",
   "execution_count": null,
   "metadata": {
    "collapsed": true
   },
   "outputs": [],
   "source": []
  },
  {
   "cell_type": "code",
   "execution_count": 10,
   "metadata": {},
   "outputs": [
    {
     "data": {
      "text/plain": [
       "array([[ 0.        ,  2.03042626,  0.        , ...,  0.        ,\n",
       "         0.        ,  0.        ],\n",
       "       [ 0.        ,  2.643641  ,  0.        , ...,  0.        ,\n",
       "         0.        ,  0.        ],\n",
       "       [ 0.        ,  2.42092323,  0.        , ...,  0.        ,\n",
       "         0.        ,  0.        ],\n",
       "       ..., \n",
       "       [ 0.        ,  1.87677658,  0.        , ...,  0.        ,\n",
       "         5.6312499 ,  0.        ],\n",
       "       [ 0.        ,  0.        ,  0.19676784, ...,  0.        ,\n",
       "         0.        ,  0.        ],\n",
       "       [ 0.        ,  0.        ,  0.8047933 , ...,  0.        ,\n",
       "         2.83738232,  0.        ]], dtype=float32)"
      ]
     },
     "execution_count": 10,
     "metadata": {},
     "output_type": "execute_result"
    }
   ],
   "source": [
    "p5weights"
   ]
  },
  {
   "cell_type": "code",
   "execution_count": 62,
   "metadata": {
    "collapsed": true
   },
   "outputs": [],
   "source": [
    "fc7weights = compute_features(batch, fc7)\n",
    "fc6weights = compute_features(batch, fc6)\n"
   ]
  },
  {
   "cell_type": "code",
   "execution_count": 63,
   "metadata": {},
   "outputs": [
    {
     "name": "stdout",
     "output_type": "stream",
     "text": [
      "(101000, 2048)\n",
      "(101000, 6400)\n"
     ]
    }
   ],
   "source": [
    "result_fc7_arr.shape\n",
    "print(result_fc6.shape)\n",
    "print(result_fc5.shape)\n",
    "import scipy.io as si\n",
    "si.savemat('pfid_data.mat', {'fc7': fc7weights, \n",
    "                             'fc6': fc6weights,\n",
    "                             'pool5': p5weights,\n",
    "                             'y': y})"
   ]
  }
 ],
 "metadata": {
  "kernelspec": {
   "display_name": "Python 3",
   "language": "python",
   "name": "python3"
  },
  "language_info": {
   "codemirror_mode": {
    "name": "ipython",
    "version": 3
   },
   "file_extension": ".py",
   "mimetype": "text/x-python",
   "name": "python",
   "nbconvert_exporter": "python",
   "pygments_lexer": "ipython3",
   "version": "3.6.1"
  }
 },
 "nbformat": 4,
 "nbformat_minor": 2
}
