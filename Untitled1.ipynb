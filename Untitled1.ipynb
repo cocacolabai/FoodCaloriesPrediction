{
 "cells": [
  {
   "cell_type": "code",
   "execution_count": 13,
   "metadata": {
    "collapsed": true
   },
   "outputs": [],
   "source": [
    "food101 = '/home/han/Downloads/food-101/images/'\n",
    "import os\n",
    "\n",
    "with open('./food101_calories.txt') as f:\n",
    "    calories = {\n",
    "        x.upper(): float(y) for x, y in map(str.split, f.readlines())\n",
    "    }\n",
    "outdir = 'food101'\n",
    "import scipy.misc\n",
    "\n",
    "counter = 0\n",
    "result = {}\n",
    "for folder in os.listdir(food101):\n",
    "    cur_dir = os.path.join(food101, folder)\n",
    "    cal = calories[folder.replace('_', '+').upper()]\n",
    "    for fname in os.listdir(cur_dir):\n",
    "        cur_file = os.path.join(cur_dir, fname)\n",
    "        img = scipy.misc.imread(cur_file)\n",
    "        resized = scipy.misc.imresize(img, (256, 256))\n",
    "        new_file_name = os.path.join(outdir, str(counter) + '.jpg')\n",
    "        scipy.misc.imsave(new_file_name, resized)\n",
    "        counter += 1\n",
    "        result[new_file_name] = cal\n"
   ]
  },
  {
   "cell_type": "code",
   "execution_count": 15,
   "metadata": {
    "collapsed": true
   },
   "outputs": [],
   "source": [
    "with open('food101/calories.txt', 'w') as f:\n",
    "    for name, c in result.items():\n",
    "        print(name, c, file=f)"
   ]
  }
 ],
 "metadata": {
  "kernelspec": {
   "display_name": "Python 3",
   "language": "python",
   "name": "python3"
  },
  "language_info": {
   "codemirror_mode": {
    "name": "ipython",
    "version": 3
   },
   "file_extension": ".py",
   "mimetype": "text/x-python",
   "name": "python",
   "nbconvert_exporter": "python",
   "pygments_lexer": "ipython3",
   "version": "3.6.1"
  }
 },
 "nbformat": 4,
 "nbformat_minor": 2
}
